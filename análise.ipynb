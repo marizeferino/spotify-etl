{
 "metadata": {
  "language_info": {
   "codemirror_mode": {
    "name": "ipython",
    "version": 3
   },
   "file_extension": ".py",
   "mimetype": "text/x-python",
   "name": "python",
   "nbconvert_exporter": "python",
   "pygments_lexer": "ipython3",
   "version": "3.8.5"
  },
  "orig_nbformat": 2,
  "kernelspec": {
   "name": "python3",
   "display_name": "Python 3.8.5 64-bit ('venv': venv)",
   "metadata": {
    "interpreter": {
     "hash": "82029430644801fb6b0eec78c77a4cc78089b2508bdd32a71e65e1502213a304"
    }
   }
  }
 },
 "nbformat": 4,
 "nbformat_minor": 2,
 "cells": [
  {
   "cell_type": "code",
   "execution_count": 1,
   "metadata": {},
   "outputs": [
    {
     "output_type": "execute_result",
     "data": {
      "text/plain": [
       "          song_name       artist_name                 played_at   timestamp\n",
       "0          Mulheres  Martinho Da Vila  2021-02-17T16:36:21.836Z  2021-02-17\n",
       "1         Disritmia  Martinho Da Vila  2021-02-17T16:17:40.910Z  2021-02-17\n",
       "2         Disritmia  Martinho Da Vila  2021-02-15T23:03:59.770Z  2021-02-15\n",
       "3          MIL GRAU     Gloria Groove  2021-02-03T23:11:39.128Z  2021-02-03\n",
       "4    Fica à vontade     PEDRO SAMPAIO  2021-02-03T23:01:01.768Z  2021-02-03\n",
       "..              ...               ...                       ...         ...\n",
       "62        Shameless    Camila Cabello  2021-02-18T14:22:14.307Z  2021-02-18\n",
       "63  Angels Like You       Miley Cyrus  2021-02-18T14:18:34.228Z  2021-02-18\n",
       "64     What A Shame        Leyla Blue  2021-02-18T14:15:16.713Z  2021-02-18\n",
       "65      Feel It Now        Now United  2021-02-18T14:11:16.739Z  2021-02-18\n",
       "66        Disritmia  Martinho Da Vila  2021-02-17T19:36:37.672Z  2021-02-17\n",
       "\n",
       "[67 rows x 4 columns]"
      ],
      "text/html": "<div>\n<style scoped>\n    .dataframe tbody tr th:only-of-type {\n        vertical-align: middle;\n    }\n\n    .dataframe tbody tr th {\n        vertical-align: top;\n    }\n\n    .dataframe thead th {\n        text-align: right;\n    }\n</style>\n<table border=\"1\" class=\"dataframe\">\n  <thead>\n    <tr style=\"text-align: right;\">\n      <th></th>\n      <th>song_name</th>\n      <th>artist_name</th>\n      <th>played_at</th>\n      <th>timestamp</th>\n    </tr>\n  </thead>\n  <tbody>\n    <tr>\n      <th>0</th>\n      <td>Mulheres</td>\n      <td>Martinho Da Vila</td>\n      <td>2021-02-17T16:36:21.836Z</td>\n      <td>2021-02-17</td>\n    </tr>\n    <tr>\n      <th>1</th>\n      <td>Disritmia</td>\n      <td>Martinho Da Vila</td>\n      <td>2021-02-17T16:17:40.910Z</td>\n      <td>2021-02-17</td>\n    </tr>\n    <tr>\n      <th>2</th>\n      <td>Disritmia</td>\n      <td>Martinho Da Vila</td>\n      <td>2021-02-15T23:03:59.770Z</td>\n      <td>2021-02-15</td>\n    </tr>\n    <tr>\n      <th>3</th>\n      <td>MIL GRAU</td>\n      <td>Gloria Groove</td>\n      <td>2021-02-03T23:11:39.128Z</td>\n      <td>2021-02-03</td>\n    </tr>\n    <tr>\n      <th>4</th>\n      <td>Fica à vontade</td>\n      <td>PEDRO SAMPAIO</td>\n      <td>2021-02-03T23:01:01.768Z</td>\n      <td>2021-02-03</td>\n    </tr>\n    <tr>\n      <th>...</th>\n      <td>...</td>\n      <td>...</td>\n      <td>...</td>\n      <td>...</td>\n    </tr>\n    <tr>\n      <th>62</th>\n      <td>Shameless</td>\n      <td>Camila Cabello</td>\n      <td>2021-02-18T14:22:14.307Z</td>\n      <td>2021-02-18</td>\n    </tr>\n    <tr>\n      <th>63</th>\n      <td>Angels Like You</td>\n      <td>Miley Cyrus</td>\n      <td>2021-02-18T14:18:34.228Z</td>\n      <td>2021-02-18</td>\n    </tr>\n    <tr>\n      <th>64</th>\n      <td>What A Shame</td>\n      <td>Leyla Blue</td>\n      <td>2021-02-18T14:15:16.713Z</td>\n      <td>2021-02-18</td>\n    </tr>\n    <tr>\n      <th>65</th>\n      <td>Feel It Now</td>\n      <td>Now United</td>\n      <td>2021-02-18T14:11:16.739Z</td>\n      <td>2021-02-18</td>\n    </tr>\n    <tr>\n      <th>66</th>\n      <td>Disritmia</td>\n      <td>Martinho Da Vila</td>\n      <td>2021-02-17T19:36:37.672Z</td>\n      <td>2021-02-17</td>\n    </tr>\n  </tbody>\n</table>\n<p>67 rows × 4 columns</p>\n</div>"
     },
     "metadata": {},
     "execution_count": 1
    }
   ],
   "source": [
    "import sqlite3\n",
    "import pandas as pd\n",
    "\n",
    "cnx = sqlite3.connect('my_played_tracks.sqlite')\n",
    "df = pd.read_sql_query(\"SELECT * FROM my_played_tracks\", cnx)\n",
    "df"
   ]
  },
  {
   "cell_type": "code",
   "execution_count": null,
   "metadata": {},
   "outputs": [],
   "source": []
  }
 ]
}